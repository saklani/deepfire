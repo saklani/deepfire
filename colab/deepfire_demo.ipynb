{
  "nbformat": 4,
  "nbformat_minor": 0,
  "metadata": {
    "colab": {
      "name": "Deepfire Demo.ipynb",
      "version": "0.3.2",
      "provenance": [],
      "include_colab_link": true
    },
    "kernelspec": {
      "name": "python3",
      "display_name": "Python 3"
    }
  },
  "cells": [
    {
      "cell_type": "markdown",
      "metadata": {
        "id": "view-in-github",
        "colab_type": "text"
      },
      "source": [
        "<a href=\"https://colab.research.google.com/github/kaaanishk/Deepfire/blob/master/Deepfire_Demo.ipynb\" target=\"_parent\"><img src=\"https://colab.research.google.com/assets/colab-badge.svg\" alt=\"Open In Colab\"/></a>"
      ]
    },
    {
      "cell_type": "markdown",
      "metadata": {
        "id": "mQmB_4eYhzqW",
        "colab_type": "text"
      },
      "source": [
        "# DeepFire\n",
        "\n",
        "\n",
        "---\n",
        "\n",
        "To start generating new lyrics, go to **Runtime > Run All** in the menubar above.\n",
        "Wait for a few seconds while new lyrics for all artists are generated. In case you want to look at lyrics from a specific artist, the lyrics are listed in the following order:\n",
        "\n",
        "1.  Tyler, the Creator\n",
        "2.  Eminem\n",
        "3. Kanye West\n",
        "4. A$AP Rocky\n",
        "5. J.Cole\n",
        "6. Snoop Dogg\n",
        "\n",
        "If you want to generate lyrics for any specific artist, just **run the first three cells first** and **then run the artist specific code block** by pressing the play button on the code block, or select the cell you want to run and go to **Runtime > Run Selection**\n",
        "\n",
        "*Note: The first three code blocks need to be run only once. If you need the lyrics just for one artist, just run the first three cells before you run the artist cell, otherwise the code won't run.*\n",
        "\n",
        "If you're interested in how we made this project, you can check out our [Medium article](https://) and [Github Repository](https://github.com/kaaanishk/Deepfire).\n",
        "\n",
        "\n"
      ]
    },
    {
      "cell_type": "code",
      "metadata": {
        "id": "0o6BPkCFe8XP",
        "colab_type": "code",
        "colab": {}
      },
      "source": [
        "!git clone https://github.com/sklan/Deepfire"
      ],
      "execution_count": 0,
      "outputs": []
    },
    {
      "cell_type": "code",
      "metadata": {
        "id": "RYPpmbkQgYaX",
        "colab_type": "code",
        "colab": {}
      },
      "source": [
        "!pip install markovify\n",
        "!pip install pronouncing"
      ],
      "execution_count": 0,
      "outputs": []
    },
    {
      "cell_type": "code",
      "metadata": {
        "id": "LfFRK_dRfSKS",
        "colab_type": "code",
        "colab": {}
      },
      "source": [
        "%cd Deepfire/scripts/"
      ],
      "execution_count": 0,
      "outputs": []
    },
    {
      "cell_type": "code",
      "metadata": {
        "id": "Ll-26x2Dfcno",
        "colab_type": "code",
        "colab": {}
      },
      "source": [
        "!python display.py --data_path /content/Deepfire/data/ --artist tyler"
      ],
      "execution_count": 0,
      "outputs": []
    },
    {
      "cell_type": "code",
      "metadata": {
        "id": "eRsWIb5lidFG",
        "colab_type": "code",
        "colab": {}
      },
      "source": [
        "!python display.py --data_path /content/Deepfire/data/ --artist eminem"
      ],
      "execution_count": 0,
      "outputs": []
    },
    {
      "cell_type": "code",
      "metadata": {
        "id": "-wvYaQ7diiEJ",
        "colab_type": "code",
        "colab": {}
      },
      "source": [
        "!python display.py --data_path /content/Deepfire/data/ --artist kanye"
      ],
      "execution_count": 0,
      "outputs": []
    },
    {
      "cell_type": "code",
      "metadata": {
        "id": "_W5m-asTijwl",
        "colab_type": "code",
        "colab": {}
      },
      "source": [
        "!python display.py --data_path /content/Deepfire/data/ --artist asaprocky"
      ],
      "execution_count": 0,
      "outputs": []
    },
    {
      "cell_type": "code",
      "metadata": {
        "id": "358ebTFVilxJ",
        "colab_type": "code",
        "colab": {}
      },
      "source": [
        "!python display.py --data_path /content/Deepfire/data/ --artist jcole"
      ],
      "execution_count": 0,
      "outputs": []
    },
    {
      "cell_type": "code",
      "metadata": {
        "id": "YolchOzwi0GU",
        "colab_type": "code",
        "colab": {}
      },
      "source": [
        "!python display.py --data_path /content/Deepfire/data/ --artist snoop"
      ],
      "execution_count": 0,
      "outputs": []
    }
  ]
}
